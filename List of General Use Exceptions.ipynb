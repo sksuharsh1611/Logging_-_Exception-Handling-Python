{
 "cells": [
  {
   "cell_type": "code",
   "execution_count": 1,
   "id": "13e9eab1-21f6-4793-92ff-ae232fc2dd30",
   "metadata": {},
   "outputs": [
    {
     "name": "stdout",
     "output_type": "stream",
     "text": [
      "division by zero\n"
     ]
    }
   ],
   "source": [
    "try:\n",
    "    a = 10 / 0 #division by zero >> handling it\n",
    "except ZeroDivisionError as e:\n",
    "    print(e)"
   ]
  },
  {
   "cell_type": "code",
   "execution_count": 2,
   "id": "21a23896-24c1-453f-8c01-29ee5e6f5156",
   "metadata": {},
   "outputs": [
    {
     "name": "stdout",
     "output_type": "stream",
     "text": [
      "invalid literal for int() with base 10: 'Suharsh'\n"
     ]
    }
   ],
   "source": [
    "try:\n",
    "    int(\"Suharsh\")\n",
    "except (ValueError, TypeError) as e:  #multiple errors can be written\n",
    "    print(e)"
   ]
  },
  {
   "cell_type": "code",
   "execution_count": 3,
   "id": "4932fa93-f45d-4df9-8577-d2755580c95b",
   "metadata": {},
   "outputs": [
    {
     "name": "stdout",
     "output_type": "stream",
     "text": [
      "This will catch an error\n"
     ]
    }
   ],
   "source": [
    "try:\n",
    "    int(\"Suharsh\")\n",
    "except:\n",
    "    print(\"This will catch an error\")"
   ]
  },
  {
   "cell_type": "code",
   "execution_count": 5,
   "id": "caf3d19e-53e4-494b-b0a7-a410845811f7",
   "metadata": {},
   "outputs": [
    {
     "name": "stdout",
     "output_type": "stream",
     "text": [
      "No module named 'sudh'\n"
     ]
    },
    {
     "data": {
      "text/plain": [
       "2.5"
      ]
     },
     "execution_count": 5,
     "metadata": {},
     "output_type": "execute_result"
    }
   ],
   "source": [
    "try:\n",
    "    import sudh\n",
    "\n",
    "except ImportError as e:\n",
    "    print(e)\n",
    "10/4"
   ]
  },
  {
   "cell_type": "code",
   "execution_count": 9,
   "id": "9bd21271-0b24-494a-b037-2d602c635d5a",
   "metadata": {},
   "outputs": [
    {
     "ename": "SyntaxError",
     "evalue": "incomplete input (2674214682.py, line 3)",
     "output_type": "error",
     "traceback": [
      "\u001b[0;36m  Cell \u001b[0;32mIn[9], line 3\u001b[0;36m\u001b[0m\n\u001b[0;31m    print(d[\"key2\"])\u001b[0m\n\u001b[0m                    ^\u001b[0m\n\u001b[0;31mSyntaxError\u001b[0m\u001b[0;31m:\u001b[0m incomplete input\n"
     ]
    }
   ],
   "source": [
    "try:\n",
    "    d ={\"key\":\"suha\",1:[1,23,4,5]}\n",
    "    print(d[\"key2\"])"
   ]
  },
  {
   "cell_type": "code",
   "execution_count": 8,
   "id": "e8bb65d3-2b02-4462-8c4f-7931ec151619",
   "metadata": {},
   "outputs": [
    {
     "name": "stdout",
     "output_type": "stream",
     "text": [
      "'key2'\n"
     ]
    }
   ],
   "source": [
    "try:\n",
    "    d ={\"key\":\"suha\",1:[1,23,4,5]}\n",
    "    print(d[\"key2\"])\n",
    "except KeyError as e:\n",
    "          print(e)"
   ]
  },
  {
   "cell_type": "code",
   "execution_count": 10,
   "id": "87811632-3d26-444b-ad11-e2fc24a6a1a7",
   "metadata": {},
   "outputs": [
    {
     "ename": "SyntaxError",
     "evalue": "invalid decimal literal (1201067157.py, line 2)",
     "output_type": "error",
     "traceback": [
      "\u001b[0;36m  Cell \u001b[0;32mIn[10], line 2\u001b[0;36m\u001b[0m\n\u001b[0;31m    1.test()\u001b[0m\n\u001b[0m     ^\u001b[0m\n\u001b[0;31mSyntaxError\u001b[0m\u001b[0;31m:\u001b[0m invalid decimal literal\n"
     ]
    }
   ],
   "source": [
    "try :\n",
    "    1.test()"
   ]
  },
  {
   "cell_type": "code",
   "execution_count": 12,
   "id": "ed91e392-3430-4048-be16-591fb06dbb7c",
   "metadata": {},
   "outputs": [
    {
     "name": "stdout",
     "output_type": "stream",
     "text": [
      "'str' object has no attribute 'test'\n"
     ]
    }
   ],
   "source": [
    "try :\n",
    "    'suh'.test()\n",
    "except AttributeError as e:\n",
    "    print(e)"
   ]
  },
  {
   "cell_type": "code",
   "execution_count": 14,
   "id": "9240f02f-e7a3-46d3-879b-5b5bf1d6ba54",
   "metadata": {},
   "outputs": [
    {
     "name": "stdout",
     "output_type": "stream",
     "text": [
      "list index out of range\n"
     ]
    }
   ],
   "source": [
    "try:\n",
    "    l =[12,3,44,5,6]\n",
    "    print(l[7])\n",
    "except IndexError as e:\n",
    "    print(e)"
   ]
  },
  {
   "cell_type": "code",
   "execution_count": 15,
   "id": "26564e06-5afb-4812-bbbb-b0f571cd2418",
   "metadata": {},
   "outputs": [
    {
     "name": "stdout",
     "output_type": "stream",
     "text": [
      "unsupported operand type(s) for +: 'int' and 'str'\n"
     ]
    }
   ],
   "source": [
    "try :\n",
    "    123 + \"suharsh\"\n",
    "\n",
    "except TypeError as e:\n",
    "    print(e)"
   ]
  },
  {
   "cell_type": "code",
   "execution_count": 18,
   "id": "544e3e8f-65af-49f3-8a87-6433640f9a44",
   "metadata": {},
   "outputs": [
    {
     "name": "stdout",
     "output_type": "stream",
     "text": [
      "[Errno 2] No such file or directory: 'test5.txt'\n"
     ]
    }
   ],
   "source": [
    "try:\n",
    "    with open(\"test5.txt\", 'r') as f:\n",
    "        f.read()\n",
    "except FileNotFoundError as e:\n",
    "    print(e)"
   ]
  },
  {
   "cell_type": "code",
   "execution_count": 19,
   "id": "36848ea8-86ff-42b3-b5a7-40368a63bd4b",
   "metadata": {},
   "outputs": [
    {
     "data": {
      "text/plain": [
       "['__cause__',\n",
       " '__class__',\n",
       " '__context__',\n",
       " '__delattr__',\n",
       " '__dict__',\n",
       " '__dir__',\n",
       " '__doc__',\n",
       " '__eq__',\n",
       " '__format__',\n",
       " '__ge__',\n",
       " '__getattribute__',\n",
       " '__gt__',\n",
       " '__hash__',\n",
       " '__init__',\n",
       " '__init_subclass__',\n",
       " '__le__',\n",
       " '__lt__',\n",
       " '__ne__',\n",
       " '__new__',\n",
       " '__reduce__',\n",
       " '__reduce_ex__',\n",
       " '__repr__',\n",
       " '__setattr__',\n",
       " '__setstate__',\n",
       " '__sizeof__',\n",
       " '__str__',\n",
       " '__subclasshook__',\n",
       " '__suppress_context__',\n",
       " '__traceback__',\n",
       " 'args',\n",
       " 'with_traceback']"
      ]
     },
     "execution_count": 19,
     "metadata": {},
     "output_type": "execute_result"
    }
   ],
   "source": [
    "dir(Exception)"
   ]
  },
  {
   "cell_type": "code",
   "execution_count": 22,
   "id": "57e64d22-5dc3-4382-bb06-20b55477983a",
   "metadata": {},
   "outputs": [
    {
     "name": "stdout",
     "output_type": "stream",
     "text": [
      "[Errno 2] No such file or directory: 'test5.txt'\n"
     ]
    }
   ],
   "source": [
    "try:\n",
    "    with open(\"test5.txt\", 'r') as f:\n",
    "        test =  f.read()\n",
    "except Exception as e:   #If this super class is used no other except will be called\n",
    "    print(e)\n",
    "    \n",
    "# No custom message will be printed if generic/super class is called at top of program\n",
    "except FileNotFoundError as e:\n",
    "    print(\"test\",e)"
   ]
  },
  {
   "cell_type": "code",
   "execution_count": 23,
   "id": "155232b8-38b9-475d-b5b8-7af81db154ef",
   "metadata": {},
   "outputs": [],
   "source": [
    "def test(file):   #can be written within functions/ classes\n",
    "    try:\n",
    "        with open(\"test5.txt\", 'r') as f:\n",
    "            test =  f.read()\n",
    "    except Exception as e:   #If this super class is used no other except will be called\n",
    "        print(e)\n",
    "\n",
    "    # No custom message will be printed if generic/super class is called at top of program\n",
    "    except FileNotFoundError as e:\n",
    "        print(\"test\",e)"
   ]
  },
  {
   "cell_type": "code",
   "execution_count": null,
   "id": "07b50b5d-4c64-4c20-bbc6-23c90945c275",
   "metadata": {},
   "outputs": [],
   "source": []
  }
 ],
 "metadata": {
  "kernelspec": {
   "display_name": "Python 3 (ipykernel)",
   "language": "python",
   "name": "python3"
  },
  "language_info": {
   "codemirror_mode": {
    "name": "ipython",
    "version": 3
   },
   "file_extension": ".py",
   "mimetype": "text/x-python",
   "name": "python",
   "nbconvert_exporter": "python",
   "pygments_lexer": "ipython3",
   "version": "3.10.8"
  }
 },
 "nbformat": 4,
 "nbformat_minor": 5
}
