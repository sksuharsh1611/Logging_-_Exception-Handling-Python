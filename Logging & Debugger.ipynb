{
 "cells": [
  {
   "cell_type": "code",
   "execution_count": 1,
   "id": "a9808055-9eee-4bf2-a46c-fba585a344a7",
   "metadata": {},
   "outputs": [
    {
     "name": "stdout",
     "output_type": "stream",
     "text": [
      "this is my print\n"
     ]
    }
   ],
   "source": [
    "print(\"this is my print\")"
   ]
  },
  {
   "cell_type": "code",
   "execution_count": 3,
   "id": "d032f6ee-14f2-44da-be02-ab39b9e21cf5",
   "metadata": {},
   "outputs": [],
   "source": [
    "# if something is printing in console' \n",
    "# Use of logging: To check where code broke or till where code executed\n",
    "# Use logging module in production grade projects\n",
    "# not use print() \n",
    "# Extension >> \"filename\".log\n",
    "# Storing erros/print >> permanently in a file\n",
    "# To investigate where code/app broke"
   ]
  },
  {
   "cell_type": "code",
   "execution_count": 4,
   "id": "aa445621-1f6d-4632-853a-a671b6534e59",
   "metadata": {},
   "outputs": [],
   "source": [
    "import logging"
   ]
  },
  {
   "cell_type": "code",
   "execution_count": 5,
   "id": "e1bcc01b-8043-403c-a106-c2b8f576228a",
   "metadata": {},
   "outputs": [],
   "source": [
    "# Basic configuration\n",
    "logging.basicConfig(filename = \"test.log\" , level = logging.INFO)"
   ]
  },
  {
   "cell_type": "code",
   "execution_count": 6,
   "id": "27503b1f-0375-44ac-a74d-2a1f05c63614",
   "metadata": {},
   "outputs": [],
   "source": [
    "logging.info(\"log this line of execution\")"
   ]
  },
  {
   "cell_type": "code",
   "execution_count": 7,
   "id": "b936cc34-c91b-4561-9788-f46216f0d443",
   "metadata": {},
   "outputs": [],
   "source": [
    "logging.info(\"This is my print\")"
   ]
  },
  {
   "cell_type": "code",
   "execution_count": 9,
   "id": "be0adb9f-e13d-4b25-bc14-87bb95cac543",
   "metadata": {},
   "outputs": [],
   "source": [
    "logging.debug(\"This is my message\")"
   ]
  },
  {
   "cell_type": "code",
   "execution_count": 10,
   "id": "b17d3309-8fc3-4732-9f0a-065c11538bd7",
   "metadata": {},
   "outputs": [],
   "source": [
    "logging.warning(\"this is my warning msg\")"
   ]
  },
  {
   "cell_type": "code",
   "execution_count": 12,
   "id": "8127d723-9fe5-4d4a-916d-c9ab0d6db951",
   "metadata": {},
   "outputs": [],
   "source": [
    "logging.error(\"This is my error log\")"
   ]
  },
  {
   "cell_type": "code",
   "execution_count": 11,
   "id": "921f5ab4-4d01-4c0a-b1b0-050adf151a1d",
   "metadata": {},
   "outputs": [],
   "source": [
    "logging.critical(\"This is my critical msg\")"
   ]
  },
  {
   "cell_type": "code",
   "execution_count": 13,
   "id": "6e0363ca-bee7-4ec0-912e-7d75cd6697a5",
   "metadata": {},
   "outputs": [],
   "source": [
    "# levels of logging:\n",
    "# 1. NOTSET\n",
    "# 2. DEBUG\n",
    "# 3. INFO\n",
    "# 4. WARNING\n",
    "# 5. ERROR\n",
    "# 6. CRITICAL\n",
    "\n",
    "# #Note:  LEVELS of logging if set as 3 : \n",
    "# user can't log 1. NOTSET and 2. DEBUG\n",
    "\n",
    "# Levels of logging may be less than :>\n",
    "# but not more than defined level of logging"
   ]
  },
  {
   "cell_type": "code",
   "execution_count": 16,
   "id": "b876acb2-042c-41f6-a7ea-f3816f717350",
   "metadata": {},
   "outputs": [],
   "source": [
    "logging.shutdown()"
   ]
  },
  {
   "cell_type": "code",
   "execution_count": 2,
   "id": "13f63827-c2d1-4a32-8628-8748cbc1cbe0",
   "metadata": {},
   "outputs": [],
   "source": [
    "import logging"
   ]
  },
  {
   "cell_type": "code",
   "execution_count": 3,
   "id": "018c1cda-0842-47ea-93c5-eec332133769",
   "metadata": {},
   "outputs": [],
   "source": [
    "logging.basicConfig(filename = \"test1.log\", level = logging.DEBUG, format = '%(acstime)s %(message)s') #To log time of error logged"
   ]
  },
  {
   "cell_type": "code",
   "execution_count": 4,
   "id": "06b70ee9-1b4a-4e5e-90a2-7e46f7918369",
   "metadata": {},
   "outputs": [
    {
     "name": "stderr",
     "output_type": "stream",
     "text": [
      "--- Logging error ---\n",
      "Traceback (most recent call last):\n",
      "  File \"/opt/conda/lib/python3.10/logging/__init__.py\", line 440, in format\n",
      "    return self._format(record)\n",
      "  File \"/opt/conda/lib/python3.10/logging/__init__.py\", line 436, in _format\n",
      "    return self._fmt % values\n",
      "KeyError: 'acstime'\n",
      "\n",
      "During handling of the above exception, another exception occurred:\n",
      "\n",
      "Traceback (most recent call last):\n",
      "  File \"/opt/conda/lib/python3.10/logging/__init__.py\", line 1100, in emit\n",
      "    msg = self.format(record)\n",
      "  File \"/opt/conda/lib/python3.10/logging/__init__.py\", line 943, in format\n",
      "    return fmt.format(record)\n",
      "  File \"/opt/conda/lib/python3.10/logging/__init__.py\", line 681, in format\n",
      "    s = self.formatMessage(record)\n",
      "  File \"/opt/conda/lib/python3.10/logging/__init__.py\", line 650, in formatMessage\n",
      "    return self._style.format(record)\n",
      "  File \"/opt/conda/lib/python3.10/logging/__init__.py\", line 442, in format\n",
      "    raise ValueError('Formatting field not found in record: %s' % e)\n",
      "ValueError: Formatting field not found in record: 'acstime'\n",
      "Call stack:\n",
      "  File \"/opt/conda/lib/python3.10/runpy.py\", line 196, in _run_module_as_main\n",
      "    return _run_code(code, main_globals, None,\n",
      "  File \"/opt/conda/lib/python3.10/runpy.py\", line 86, in _run_code\n",
      "    exec(code, run_globals)\n",
      "  File \"/opt/conda/lib/python3.10/site-packages/ipykernel_launcher.py\", line 17, in <module>\n",
      "    app.launch_new_instance()\n",
      "  File \"/opt/conda/lib/python3.10/site-packages/traitlets/config/application.py\", line 992, in launch_instance\n",
      "    app.start()\n",
      "  File \"/opt/conda/lib/python3.10/site-packages/ipykernel/kernelapp.py\", line 711, in start\n",
      "    self.io_loop.start()\n",
      "  File \"/opt/conda/lib/python3.10/site-packages/tornado/platform/asyncio.py\", line 199, in start\n",
      "    self.asyncio_loop.run_forever()\n",
      "  File \"/opt/conda/lib/python3.10/asyncio/base_events.py\", line 603, in run_forever\n",
      "    self._run_once()\n",
      "  File \"/opt/conda/lib/python3.10/asyncio/base_events.py\", line 1899, in _run_once\n",
      "    handle._run()\n",
      "  File \"/opt/conda/lib/python3.10/asyncio/events.py\", line 80, in _run\n",
      "    self._context.run(self._callback, *self._args)\n",
      "  File \"/opt/conda/lib/python3.10/site-packages/ipykernel/kernelbase.py\", line 510, in dispatch_queue\n",
      "    await self.process_one()\n",
      "  File \"/opt/conda/lib/python3.10/site-packages/ipykernel/kernelbase.py\", line 499, in process_one\n",
      "    await dispatch(*args)\n",
      "  File \"/opt/conda/lib/python3.10/site-packages/ipykernel/kernelbase.py\", line 406, in dispatch_shell\n",
      "    await result\n",
      "  File \"/opt/conda/lib/python3.10/site-packages/ipykernel/kernelbase.py\", line 729, in execute_request\n",
      "    reply_content = await reply_content\n",
      "  File \"/opt/conda/lib/python3.10/site-packages/ipykernel/ipkernel.py\", line 411, in do_execute\n",
      "    res = shell.run_cell(\n",
      "  File \"/opt/conda/lib/python3.10/site-packages/ipykernel/zmqshell.py\", line 531, in run_cell\n",
      "    return super().run_cell(*args, **kwargs)\n",
      "  File \"/opt/conda/lib/python3.10/site-packages/IPython/core/interactiveshell.py\", line 2940, in run_cell\n",
      "    result = self._run_cell(\n",
      "  File \"/opt/conda/lib/python3.10/site-packages/IPython/core/interactiveshell.py\", line 2995, in _run_cell\n",
      "    return runner(coro)\n",
      "  File \"/opt/conda/lib/python3.10/site-packages/IPython/core/async_helpers.py\", line 129, in _pseudo_sync_runner\n",
      "    coro.send(None)\n",
      "  File \"/opt/conda/lib/python3.10/site-packages/IPython/core/interactiveshell.py\", line 3194, in run_cell_async\n",
      "    has_raised = await self.run_ast_nodes(code_ast.body, cell_name,\n",
      "  File \"/opt/conda/lib/python3.10/site-packages/IPython/core/interactiveshell.py\", line 3373, in run_ast_nodes\n",
      "    if await self.run_code(code, result, async_=asy):\n",
      "  File \"/opt/conda/lib/python3.10/site-packages/IPython/core/interactiveshell.py\", line 3433, in run_code\n",
      "    exec(code_obj, self.user_global_ns, self.user_ns)\n",
      "  File \"/tmp/ipykernel_1665/1054055050.py\", line 1, in <module>\n",
      "    logging.info(\"This is my info logging\")\n",
      "Message: 'This is my info logging'\n",
      "Arguments: ()\n",
      "--- Logging error ---\n",
      "Traceback (most recent call last):\n",
      "  File \"/opt/conda/lib/python3.10/logging/__init__.py\", line 440, in format\n",
      "    return self._format(record)\n",
      "  File \"/opt/conda/lib/python3.10/logging/__init__.py\", line 436, in _format\n",
      "    return self._fmt % values\n",
      "KeyError: 'acstime'\n",
      "\n",
      "During handling of the above exception, another exception occurred:\n",
      "\n",
      "Traceback (most recent call last):\n",
      "  File \"/opt/conda/lib/python3.10/logging/__init__.py\", line 1100, in emit\n",
      "    msg = self.format(record)\n",
      "  File \"/opt/conda/lib/python3.10/logging/__init__.py\", line 943, in format\n",
      "    return fmt.format(record)\n",
      "  File \"/opt/conda/lib/python3.10/logging/__init__.py\", line 681, in format\n",
      "    s = self.formatMessage(record)\n",
      "  File \"/opt/conda/lib/python3.10/logging/__init__.py\", line 650, in formatMessage\n",
      "    return self._style.format(record)\n",
      "  File \"/opt/conda/lib/python3.10/logging/__init__.py\", line 442, in format\n",
      "    raise ValueError('Formatting field not found in record: %s' % e)\n",
      "ValueError: Formatting field not found in record: 'acstime'\n",
      "Call stack:\n",
      "  File \"/opt/conda/lib/python3.10/runpy.py\", line 196, in _run_module_as_main\n",
      "    return _run_code(code, main_globals, None,\n",
      "  File \"/opt/conda/lib/python3.10/runpy.py\", line 86, in _run_code\n",
      "    exec(code, run_globals)\n",
      "  File \"/opt/conda/lib/python3.10/site-packages/ipykernel_launcher.py\", line 17, in <module>\n",
      "    app.launch_new_instance()\n",
      "  File \"/opt/conda/lib/python3.10/site-packages/traitlets/config/application.py\", line 992, in launch_instance\n",
      "    app.start()\n",
      "  File \"/opt/conda/lib/python3.10/site-packages/ipykernel/kernelapp.py\", line 711, in start\n",
      "    self.io_loop.start()\n",
      "  File \"/opt/conda/lib/python3.10/site-packages/tornado/platform/asyncio.py\", line 199, in start\n",
      "    self.asyncio_loop.run_forever()\n",
      "  File \"/opt/conda/lib/python3.10/asyncio/base_events.py\", line 603, in run_forever\n",
      "    self._run_once()\n",
      "  File \"/opt/conda/lib/python3.10/asyncio/base_events.py\", line 1899, in _run_once\n",
      "    handle._run()\n",
      "  File \"/opt/conda/lib/python3.10/asyncio/events.py\", line 80, in _run\n",
      "    self._context.run(self._callback, *self._args)\n",
      "  File \"/opt/conda/lib/python3.10/site-packages/ipykernel/kernelbase.py\", line 510, in dispatch_queue\n",
      "    await self.process_one()\n",
      "  File \"/opt/conda/lib/python3.10/site-packages/ipykernel/kernelbase.py\", line 499, in process_one\n",
      "    await dispatch(*args)\n",
      "  File \"/opt/conda/lib/python3.10/site-packages/ipykernel/kernelbase.py\", line 406, in dispatch_shell\n",
      "    await result\n",
      "  File \"/opt/conda/lib/python3.10/site-packages/ipykernel/kernelbase.py\", line 729, in execute_request\n",
      "    reply_content = await reply_content\n",
      "  File \"/opt/conda/lib/python3.10/site-packages/ipykernel/ipkernel.py\", line 411, in do_execute\n",
      "    res = shell.run_cell(\n",
      "  File \"/opt/conda/lib/python3.10/site-packages/ipykernel/zmqshell.py\", line 531, in run_cell\n",
      "    return super().run_cell(*args, **kwargs)\n",
      "  File \"/opt/conda/lib/python3.10/site-packages/IPython/core/interactiveshell.py\", line 2940, in run_cell\n",
      "    result = self._run_cell(\n",
      "  File \"/opt/conda/lib/python3.10/site-packages/IPython/core/interactiveshell.py\", line 2995, in _run_cell\n",
      "    return runner(coro)\n",
      "  File \"/opt/conda/lib/python3.10/site-packages/IPython/core/async_helpers.py\", line 129, in _pseudo_sync_runner\n",
      "    coro.send(None)\n",
      "  File \"/opt/conda/lib/python3.10/site-packages/IPython/core/interactiveshell.py\", line 3194, in run_cell_async\n",
      "    has_raised = await self.run_ast_nodes(code_ast.body, cell_name,\n",
      "  File \"/opt/conda/lib/python3.10/site-packages/IPython/core/interactiveshell.py\", line 3373, in run_ast_nodes\n",
      "    if await self.run_code(code, result, async_=asy):\n",
      "  File \"/opt/conda/lib/python3.10/site-packages/IPython/core/interactiveshell.py\", line 3433, in run_code\n",
      "    exec(code_obj, self.user_global_ns, self.user_ns)\n",
      "  File \"/tmp/ipykernel_1665/1054055050.py\", line 2, in <module>\n",
      "    logging.error(\"This is my error msg\")\n",
      "Message: 'This is my error msg'\n",
      "Arguments: ()\n",
      "--- Logging error ---\n",
      "Traceback (most recent call last):\n",
      "  File \"/opt/conda/lib/python3.10/logging/__init__.py\", line 440, in format\n",
      "    return self._format(record)\n",
      "  File \"/opt/conda/lib/python3.10/logging/__init__.py\", line 436, in _format\n",
      "    return self._fmt % values\n",
      "KeyError: 'acstime'\n",
      "\n",
      "During handling of the above exception, another exception occurred:\n",
      "\n",
      "Traceback (most recent call last):\n",
      "  File \"/opt/conda/lib/python3.10/logging/__init__.py\", line 1100, in emit\n",
      "    msg = self.format(record)\n",
      "  File \"/opt/conda/lib/python3.10/logging/__init__.py\", line 943, in format\n",
      "    return fmt.format(record)\n",
      "  File \"/opt/conda/lib/python3.10/logging/__init__.py\", line 681, in format\n",
      "    s = self.formatMessage(record)\n",
      "  File \"/opt/conda/lib/python3.10/logging/__init__.py\", line 650, in formatMessage\n",
      "    return self._style.format(record)\n",
      "  File \"/opt/conda/lib/python3.10/logging/__init__.py\", line 442, in format\n",
      "    raise ValueError('Formatting field not found in record: %s' % e)\n",
      "ValueError: Formatting field not found in record: 'acstime'\n",
      "Call stack:\n",
      "  File \"/opt/conda/lib/python3.10/runpy.py\", line 196, in _run_module_as_main\n",
      "    return _run_code(code, main_globals, None,\n",
      "  File \"/opt/conda/lib/python3.10/runpy.py\", line 86, in _run_code\n",
      "    exec(code, run_globals)\n",
      "  File \"/opt/conda/lib/python3.10/site-packages/ipykernel_launcher.py\", line 17, in <module>\n",
      "    app.launch_new_instance()\n",
      "  File \"/opt/conda/lib/python3.10/site-packages/traitlets/config/application.py\", line 992, in launch_instance\n",
      "    app.start()\n",
      "  File \"/opt/conda/lib/python3.10/site-packages/ipykernel/kernelapp.py\", line 711, in start\n",
      "    self.io_loop.start()\n",
      "  File \"/opt/conda/lib/python3.10/site-packages/tornado/platform/asyncio.py\", line 199, in start\n",
      "    self.asyncio_loop.run_forever()\n",
      "  File \"/opt/conda/lib/python3.10/asyncio/base_events.py\", line 603, in run_forever\n",
      "    self._run_once()\n",
      "  File \"/opt/conda/lib/python3.10/asyncio/base_events.py\", line 1899, in _run_once\n",
      "    handle._run()\n",
      "  File \"/opt/conda/lib/python3.10/asyncio/events.py\", line 80, in _run\n",
      "    self._context.run(self._callback, *self._args)\n",
      "  File \"/opt/conda/lib/python3.10/site-packages/ipykernel/kernelbase.py\", line 510, in dispatch_queue\n",
      "    await self.process_one()\n",
      "  File \"/opt/conda/lib/python3.10/site-packages/ipykernel/kernelbase.py\", line 499, in process_one\n",
      "    await dispatch(*args)\n",
      "  File \"/opt/conda/lib/python3.10/site-packages/ipykernel/kernelbase.py\", line 406, in dispatch_shell\n",
      "    await result\n",
      "  File \"/opt/conda/lib/python3.10/site-packages/ipykernel/kernelbase.py\", line 729, in execute_request\n",
      "    reply_content = await reply_content\n",
      "  File \"/opt/conda/lib/python3.10/site-packages/ipykernel/ipkernel.py\", line 411, in do_execute\n",
      "    res = shell.run_cell(\n",
      "  File \"/opt/conda/lib/python3.10/site-packages/ipykernel/zmqshell.py\", line 531, in run_cell\n",
      "    return super().run_cell(*args, **kwargs)\n",
      "  File \"/opt/conda/lib/python3.10/site-packages/IPython/core/interactiveshell.py\", line 2940, in run_cell\n",
      "    result = self._run_cell(\n",
      "  File \"/opt/conda/lib/python3.10/site-packages/IPython/core/interactiveshell.py\", line 2995, in _run_cell\n",
      "    return runner(coro)\n",
      "  File \"/opt/conda/lib/python3.10/site-packages/IPython/core/async_helpers.py\", line 129, in _pseudo_sync_runner\n",
      "    coro.send(None)\n",
      "  File \"/opt/conda/lib/python3.10/site-packages/IPython/core/interactiveshell.py\", line 3194, in run_cell_async\n",
      "    has_raised = await self.run_ast_nodes(code_ast.body, cell_name,\n",
      "  File \"/opt/conda/lib/python3.10/site-packages/IPython/core/interactiveshell.py\", line 3373, in run_ast_nodes\n",
      "    if await self.run_code(code, result, async_=asy):\n",
      "  File \"/opt/conda/lib/python3.10/site-packages/IPython/core/interactiveshell.py\", line 3433, in run_code\n",
      "    exec(code_obj, self.user_global_ns, self.user_ns)\n",
      "  File \"/tmp/ipykernel_1665/1054055050.py\", line 3, in <module>\n",
      "    logging.critical(\"This is critical log\")\n",
      "Message: 'This is critical log'\n",
      "Arguments: ()\n"
     ]
    }
   ],
   "source": [
    "logging.info(\"This is my info logging\")\n",
    "logging.error(\"This is my error msg\")\n",
    "logging.critical(\"This is critical log\")"
   ]
  },
  {
   "cell_type": "code",
   "execution_count": 21,
   "id": "62fe033a-a3f2-4473-9875-56e6d879ed6c",
   "metadata": {},
   "outputs": [],
   "source": [
    "# It does not created new file \"test1.log\" because previous logging file is not shutdown\n",
    "# Throwing larger exception due to some error in defining logging with time\n",
    "\n",
    "# Error is when we define time :\n",
    "    #   %(acstime)s X >>> %(asctime)s"
   ]
  },
  {
   "cell_type": "code",
   "execution_count": 2,
   "id": "0c293864-50ee-4a50-bc4c-8d821d9ee34f",
   "metadata": {},
   "outputs": [],
   "source": [
    "import logging"
   ]
  },
  {
   "cell_type": "code",
   "execution_count": 3,
   "id": "2a5b1926-be91-4319-92a9-dfc2da355de0",
   "metadata": {},
   "outputs": [],
   "source": [
    "logging.basicConfig(filename = \"test1.log\", level = logging.DEBUG, format = '%(asctime)s %(message)s') #To log time of error logged"
   ]
  },
  {
   "cell_type": "code",
   "execution_count": 4,
   "id": "2bd0e448-ea90-4be2-99de-90a86b1124cc",
   "metadata": {},
   "outputs": [],
   "source": [
    "logging.info(\"This is my info logging\")\n",
    "logging.error(\"This is my error msg\")\n",
    "logging.critical(\"This is critical log\")"
   ]
  },
  {
   "cell_type": "code",
   "execution_count": 5,
   "id": "db8b7ed6-fe39-44aa-884e-42ede590c369",
   "metadata": {},
   "outputs": [],
   "source": [
    "logging.shutdown()"
   ]
  },
  {
   "cell_type": "code",
   "execution_count": 6,
   "id": "641b7f6c-d435-4fe6-942b-38d95c2dac39",
   "metadata": {},
   "outputs": [],
   "source": [
    "# some more examples"
   ]
  },
  {
   "cell_type": "code",
   "execution_count": 1,
   "id": "92f01e9c-322d-4323-bf5f-00d418904f08",
   "metadata": {},
   "outputs": [],
   "source": [
    "import logging"
   ]
  },
  {
   "cell_type": "code",
   "execution_count": 2,
   "id": "2b72032b-3513-4a04-9593-b2c26c941c5d",
   "metadata": {},
   "outputs": [],
   "source": [
    "logging.basicConfig(filename = \"test2.log\", level = logging.DEBUG, format = '%(asctime)s %(name)s %(levelname)s %(message)s')"
   ]
  },
  {
   "cell_type": "code",
   "execution_count": null,
   "id": "7d63f5d0-4972-408d-bd02-c95940b92d86",
   "metadata": {},
   "outputs": [],
   "source": [
    "# # %(asctime)s >>current timestamp\n",
    "# %(name)s  >> coming from which system \n",
    "# %(levelname)s  >>logging level name\n",
    "# %(message)s'  >>>message givem"
   ]
  },
  {
   "cell_type": "code",
   "execution_count": 3,
   "id": "fb5e0b89-8948-49f2-ad49-cc9513401cb3",
   "metadata": {},
   "outputs": [],
   "source": [
    "logging.info(\"This is my info logging\")\n",
    "logging.error(\"This is my error msg\")\n",
    "logging.critical(\"This is critical log\")"
   ]
  },
  {
   "cell_type": "code",
   "execution_count": 4,
   "id": "ef41b7e2-5bf4-4c96-ba97-75a9ca98a347",
   "metadata": {},
   "outputs": [],
   "source": [
    "l = [1,2,3,4,[4,5,6],\"suharsh\",\"kumar\"]\n",
    "\n",
    "# Create operation to keep integers in one list and string in other"
   ]
  },
  {
   "cell_type": "code",
   "execution_count": 5,
   "id": "cd7e93b6-a842-4134-940b-f8ffeb836711",
   "metadata": {},
   "outputs": [],
   "source": [
    "l1_int = []\n",
    "l2_str = []\n",
    "for i in l:\n",
    "    if type(i) == list :\n",
    "        for j in i:\n",
    "            if type(j) == int:\n",
    "                l1_int.append(j)\n",
    "    elif type(i) == int:\n",
    "        l1_int.append(i)\n",
    "    else: \n",
    "        if type(i) == str:\n",
    "            l2_str.append(i)\n",
    "    "
   ]
  },
  {
   "cell_type": "code",
   "execution_count": 6,
   "id": "6a993d53-d0d0-410e-8a25-18b1368cbb55",
   "metadata": {},
   "outputs": [
    {
     "data": {
      "text/plain": [
       "[1, 2, 3, 4, 4, 5, 6]"
      ]
     },
     "execution_count": 6,
     "metadata": {},
     "output_type": "execute_result"
    }
   ],
   "source": [
    "l1_int"
   ]
  },
  {
   "cell_type": "code",
   "execution_count": 7,
   "id": "831d0d83-fecc-492f-8cb7-6d5191dd160c",
   "metadata": {},
   "outputs": [
    {
     "data": {
      "text/plain": [
       "['suharsh', 'kumar']"
      ]
     },
     "execution_count": 7,
     "metadata": {},
     "output_type": "execute_result"
    }
   ],
   "source": [
    "l2_str"
   ]
  },
  {
   "cell_type": "code",
   "execution_count": 10,
   "id": "86c5125c-98ad-4169-9ae8-950e709d8af6",
   "metadata": {},
   "outputs": [],
   "source": [
    "# To implement logging module:\n",
    "l1_int = []\n",
    "l2_str = []\n",
    "for i in l:\n",
    "    logging.info(\"We are iterating through list and our local var is i\")\n",
    "    if type(i) == list :\n",
    "        logging.info(\"I am inside if statement and trying to check list type\")\n",
    "        for j in i:\n",
    "            logging.info(\"I am in another for loop for list inside list element\")\n",
    "            if type(j) == int:\n",
    "                logging.info(\"I am inside if statement\")\n",
    "                l1_int.append(j)\n",
    "    elif type(i) == int:\n",
    "        l1_int.append(i)\n",
    "    else: \n",
    "        logging.info(\"Checking for string type data inside the list\")\n",
    "        if type(i) == str:\n",
    "            l2_str.append(i)"
   ]
  },
  {
   "cell_type": "code",
   "execution_count": 12,
   "id": "49432b92-3594-45a5-a523-e9f32a99bd74",
   "metadata": {},
   "outputs": [],
   "source": [
    "# if we want to log the list convert list into str\n",
    "\n",
    "# To implement logging module:\n",
    "l1_int = []\n",
    "l2_str = []\n",
    "for i in l:\n",
    "    logging.info(\"We are iterating through list and our local var is i\" + str(l))\n",
    "    if type(i) == list :\n",
    "        logging.info(\"I am inside if statement and trying to check list type\" +str(i))\n",
    "        for j in i:\n",
    "            logging.info(\"I am in another for loop for list inside list element\"+str(j))\n",
    "            if type(j) == int:\n",
    "                logging.info(\"I am inside if statement\")\n",
    "                l1_int.append(j)\n",
    "    elif type(i) == int:\n",
    "        l1_int.append(i)\n",
    "    else: \n",
    "        logging.info(\"Checking for string type data inside the list\")\n",
    "        if type(i) == str:\n",
    "            l2_str.append(i)"
   ]
  },
  {
   "cell_type": "code",
   "execution_count": 14,
   "id": "0bfcde5a-795d-4798-9c0a-b431d7d05735",
   "metadata": {},
   "outputs": [],
   "source": [
    "# Using placeholder instead of conerting to string\n",
    "\n",
    "# if we want to log the list convert list into str\n",
    "\n",
    "# To implement logging module:\n",
    "l1_int = []\n",
    "l2_str = []\n",
    "for i in l:\n",
    "    logging.info(\"We are iterating through list and our local var is {}\".format(l ))\n",
    "    if type(i) == list :\n",
    "        logging.info(\"I am inside if statement and trying to check list type\" +str(i))\n",
    "        for j in i:\n",
    "            logging.info(\"I am in another for loop for list inside list element\"+str(j))\n",
    "            if type(j) == int:\n",
    "                logging.info(\"I am inside if statement\")\n",
    "                l1_int.append(j)\n",
    "    elif type(i) == int:\n",
    "        l1_int.append(i)\n",
    "    else: \n",
    "        logging.info(\"Checking for string type data inside the list\")\n",
    "        if type(i) == str:\n",
    "            l2_str.append(i)\n",
    "# To print final list into logging file\n",
    "logging.info(\"My Final result for int is {l1} and str is {l2}\".format(l1= l1_int, l2 = l2_str))"
   ]
  },
  {
   "cell_type": "code",
   "execution_count": 15,
   "id": "59fd16dc-2fff-4a51-8473-3b518cf1c6ee",
   "metadata": {},
   "outputs": [],
   "source": [
    "# While creating any program/app > we need to use logging instead of print\n",
    "# /\\follow Standard procedure while writing any task at industry level"
   ]
  },
  {
   "cell_type": "code",
   "execution_count": null,
   "id": "a3d4c340-ef5a-4027-abab-c79d5a5dc895",
   "metadata": {},
   "outputs": [],
   "source": []
  }
 ],
 "metadata": {
  "kernelspec": {
   "display_name": "Python 3 (ipykernel)",
   "language": "python",
   "name": "python3"
  },
  "language_info": {
   "codemirror_mode": {
    "name": "ipython",
    "version": 3
   },
   "file_extension": ".py",
   "mimetype": "text/x-python",
   "name": "python",
   "nbconvert_exporter": "python",
   "pygments_lexer": "ipython3",
   "version": "3.10.8"
  }
 },
 "nbformat": 4,
 "nbformat_minor": 5
}
