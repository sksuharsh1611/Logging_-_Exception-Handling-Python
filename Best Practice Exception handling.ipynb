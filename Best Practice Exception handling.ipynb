{
 "cells": [
  {
   "cell_type": "code",
   "execution_count": 5,
   "id": "c48adca9-82bf-484f-835e-e8acc8b02a54",
   "metadata": {},
   "outputs": [
    {
     "name": "stdout",
     "output_type": "stream",
     "text": [
      "division by zero\n"
     ]
    }
   ],
   "source": [
    "# Follow general instructions:\n",
    "# Always use specific exception\n",
    "\n",
    "# For ex:  Not use this generic super class\n",
    "try:\n",
    "    10/0\n",
    "except Exception as e:\n",
    "    print(e)\n"
   ]
  },
  {
   "cell_type": "code",
   "execution_count": 8,
   "id": "d0981dff-17bc-40c9-97ee-05e05b710bfd",
   "metadata": {},
   "outputs": [
    {
     "name": "stdout",
     "output_type": "stream",
     "text": [
      "division by zero\n"
     ]
    }
   ],
   "source": [
    "# Best use specific\n",
    "try:\n",
    "    10/0\n",
    "except ZeroDivisionError as e:\n",
    "    print(e)"
   ]
  },
  {
   "cell_type": "code",
   "execution_count": 9,
   "id": "27b59a47-a25f-4931-b997-ad37cb21d2e1",
   "metadata": {},
   "outputs": [
    {
     "name": "stdout",
     "output_type": "stream",
     "text": [
      "I am trying to handle a zerodivision error division by zero\n"
     ]
    }
   ],
   "source": [
    "# Print always a proper message for custom exceptions\n",
    "try:\n",
    "    10/0\n",
    "except ZeroDivisionError as e:\n",
    "    print(\"I am trying to handle a zerodivision error\", e)"
   ]
  },
  {
   "cell_type": "code",
   "execution_count": 13,
   "id": "4dda984e-a924-4cf2-a8fe-414cf2309297",
   "metadata": {},
   "outputs": [],
   "source": [
    "# Always try to log your error: Use Logging\n",
    "\n",
    "import logging\n",
    "logging.basicConfig(filename=\"error.log\",level=logging.ERROR)\n",
    "\n",
    "try:\n",
    "    10/0\n",
    "except ZeroDivisionError as e:\n",
    "    logging.error(\"I am trying to handle a zerodivision error {} \".format(e) )"
   ]
  },
  {
   "cell_type": "code",
   "execution_count": 15,
   "id": "376185bb-4093-4d7f-9762-8d83425b6653",
   "metadata": {},
   "outputs": [],
   "source": [
    "# Always avoid to write multiple exception handling:\n",
    "# Write specific ones only\n",
    "try:\n",
    "    10/0\n",
    "\n",
    "except FileNotFoundError as e:\n",
    "    logging.error(\"I am handling file not found {}\".format(e))\n",
    "except AttributeError as e:\n",
    "    logging.error(\"I am handling Attribute error {}\".format(e))\n",
    "    \n",
    "except ZeroDivisionError as e:\n",
    "    logging.error(\"I am trying to handle a zerodivision error {} \".format(e) )"
   ]
  },
  {
   "cell_type": "code",
   "execution_count": 16,
   "id": "9c33750a-ab88-4073-853f-8ac7aeb82590",
   "metadata": {},
   "outputs": [],
   "source": [
    "# Document all the errors\n",
    "# Why, what, How we have written any code\n",
    "# documentation with proper meaning\n",
    "\n",
    "# Clean-up all the resources : if db connection is open > need to close always\n",
    "try:\n",
    "    with open(\"test6.txt\",'w') as f:\n",
    "        f.write(\"This is my data to file \")\n",
    "# if we have consumed resources by opening a file >> We need to close it also\n",
    "\n",
    "except FileNotFoundError as e:\n",
    "    logging.error(\"I am handling file not found {}\".format(e))\n",
    "    \n",
    "finally:\n",
    "    f.close()\n"
   ]
  },
  {
   "cell_type": "code",
   "execution_count": null,
   "id": "122eafdd-2550-4a3e-ba1b-c57e4e5b99aa",
   "metadata": {},
   "outputs": [],
   "source": []
  },
  {
   "cell_type": "code",
   "execution_count": null,
   "id": "b34d7b5f-08f1-45aa-9031-ff1fd4f9c9c3",
   "metadata": {},
   "outputs": [],
   "source": []
  }
 ],
 "metadata": {
  "kernelspec": {
   "display_name": "Python 3 (ipykernel)",
   "language": "python",
   "name": "python3"
  },
  "language_info": {
   "codemirror_mode": {
    "name": "ipython",
    "version": 3
   },
   "file_extension": ".py",
   "mimetype": "text/x-python",
   "name": "python",
   "nbconvert_exporter": "python",
   "pygments_lexer": "ipython3",
   "version": "3.10.8"
  }
 },
 "nbformat": 4,
 "nbformat_minor": 5
}
