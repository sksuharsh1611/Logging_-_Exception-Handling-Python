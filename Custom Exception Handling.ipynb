{
 "cells": [
  {
   "cell_type": "code",
   "execution_count": 1,
   "id": "9e7b559c-30af-40c9-9cc0-6c0db239d711",
   "metadata": {},
   "outputs": [],
   "source": [
    "# Some exception that is not present in python module: \n",
    "# >> Need to create custom Exception "
   ]
  },
  {
   "cell_type": "code",
   "execution_count": 2,
   "id": "42f9c0bd-7ce3-45f6-88f4-251ebb3a06b8",
   "metadata": {},
   "outputs": [
    {
     "name": "stdin",
     "output_type": "stream",
     "text": [
      "Enter your age: -784\n"
     ]
    }
   ],
   "source": [
    "age = int(input(\"Enter your age:\"))\n",
    "# Negative age must not be there > handle using if-else or Exception Handling"
   ]
  },
  {
   "cell_type": "code",
   "execution_count": 14,
   "id": "adcd7b5f-4351-4765-8ab0-2edc8197a62b",
   "metadata": {},
   "outputs": [],
   "source": [
    "# Using Custom-Exception Handling\n",
    "\n",
    "class validated_age(Exception):\n",
    "    \n",
    "    def __init__(self, msg) :\n",
    "        \n",
    "        self.msg = msg"
   ]
  },
  {
   "cell_type": "code",
   "execution_count": 22,
   "id": "36ce88f9-c982-4403-b274-8b81a179dcc4",
   "metadata": {},
   "outputs": [],
   "source": [
    "def validate_age(age):\n",
    "    if age < 0:\n",
    "        raise validated_age(\"Entered age is negative \")\n",
    "    elif age > 200:\n",
    "        raise validated_age(\"Entered age is very very high \")\n",
    "    else: \n",
    "        print(\"Age is valid\")"
   ]
  },
  {
   "cell_type": "code",
   "execution_count": 23,
   "id": "a1deb89d-57ae-494d-8a9c-11f74e1b05e5",
   "metadata": {},
   "outputs": [
    {
     "name": "stdin",
     "output_type": "stream",
     "text": [
      "Enter your age: -87887\n"
     ]
    },
    {
     "name": "stdout",
     "output_type": "stream",
     "text": [
      "Entered age is negative \n"
     ]
    }
   ],
   "source": [
    "try:\n",
    "    age = int(input(\"Enter your age:\"))\n",
    "    validate_age(age)\n",
    "except validated_age as e:\n",
    "    print(e)"
   ]
  },
  {
   "cell_type": "code",
   "execution_count": 24,
   "id": "1aec9735-971f-48c7-b4c8-77709fa318cf",
   "metadata": {},
   "outputs": [
    {
     "name": "stdin",
     "output_type": "stream",
     "text": [
      "Enter your age: 210\n"
     ]
    },
    {
     "name": "stdout",
     "output_type": "stream",
     "text": [
      "Entered age is very very high \n"
     ]
    }
   ],
   "source": [
    "try:\n",
    "    age = int(input(\"Enter your age:\"))\n",
    "    validate_age(age)\n",
    "except validated_age as e:\n",
    "    print(e)"
   ]
  },
  {
   "cell_type": "code",
   "execution_count": 25,
   "id": "39455dab-61a5-4b29-b1dd-4f6ff119ac4b",
   "metadata": {},
   "outputs": [
    {
     "name": "stdin",
     "output_type": "stream",
     "text": [
      "Enter your age: 54\n"
     ]
    },
    {
     "name": "stdout",
     "output_type": "stream",
     "text": [
      "Age is valid\n"
     ]
    }
   ],
   "source": [
    "try:\n",
    "    age = int(input(\"Enter your age:\"))\n",
    "    validate_age(age)\n",
    "except validated_age as e:\n",
    "    print(e)"
   ]
  },
  {
   "cell_type": "code",
   "execution_count": null,
   "id": "7245f9d4-350e-4370-880e-06e9e088b441",
   "metadata": {},
   "outputs": [],
   "source": []
  }
 ],
 "metadata": {
  "kernelspec": {
   "display_name": "Python 3 (ipykernel)",
   "language": "python",
   "name": "python3"
  },
  "language_info": {
   "codemirror_mode": {
    "name": "ipython",
    "version": 3
   },
   "file_extension": ".py",
   "mimetype": "text/x-python",
   "name": "python",
   "nbconvert_exporter": "python",
   "pygments_lexer": "ipython3",
   "version": "3.10.8"
  }
 },
 "nbformat": 4,
 "nbformat_minor": 5
}
